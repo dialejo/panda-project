{
  "nbformat": 4,
  "nbformat_minor": 0,
  "metadata": {
    "colab": {
      "provenance": [],
      "authorship_tag": "ABX9TyPC8PBZDpIJFouxaLrYCfLP",
      "include_colab_link": true
    },
    "kernelspec": {
      "name": "python3",
      "display_name": "Python 3"
    },
    "language_info": {
      "name": "python"
    }
  },
  "cells": [
    {
      "cell_type": "markdown",
      "metadata": {
        "id": "view-in-github",
        "colab_type": "text"
      },
      "source": [
        "<a href=\"https://colab.research.google.com/github/dialejo/panda-project/blob/main/Panda_project.ipynb\" target=\"_parent\"><img src=\"https://colab.research.google.com/assets/colab-badge.svg\" alt=\"Open In Colab\"/></a>"
      ]
    },
    {
      "cell_type": "markdown",
      "source": [
        "#**Panda Biblioteca**\n",
        "\n",
        "Pandas es una biblioteca de código abierto en Python utilizada para el análisis de datos. Proporciona herramientas poderosas y fáciles de usar para la manipulación y análisis de datos en formatos de tablas, como CSV, Excel, SQL y muchos otros."
      ],
      "metadata": {
        "id": "oPOFzIC9qM3w"
      }
    },
    {
      "cell_type": "markdown",
      "source": [
        "\n",
        "#**Proyecto**\n",
        "\n",
        "Hemos sido contratados como científicos de datos por una empresa inmobiliaria. Nuestra principal función es brindar soporte a las demandas del equipo de Aprendizaje Automático y del equipo de Desarrollo de esta empresa.\n",
        "Para atender a estas demandas, se ha proporcionado un tablero en Trello con las etapas y tareas del proyecto que debemos realizar. También se nos ha proporcionado una base de datos que utilizaremos para desarrollar el proyecto."
      ],
      "metadata": {
        "id": "ZFuJXJYVrH3d"
      }
    },
    {
      "cell_type": "code",
      "execution_count": null,
      "metadata": {
        "id": "nWJ50Sp9p89e"
      },
      "outputs": [],
      "source": []
    }
  ]
}